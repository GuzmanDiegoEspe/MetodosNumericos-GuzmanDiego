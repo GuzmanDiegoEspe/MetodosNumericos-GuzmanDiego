{
 "cells": [
  {
   "cell_type": "code",
   "execution_count": 1,
   "id": "6d05909d",
   "metadata": {},
   "outputs": [
    {
     "name": "stdout",
     "output_type": "stream",
     "text": [
      "12.5698\n"
     ]
    }
   ],
   "source": [
    "import numpy as np \n",
    "from math import sqrt\n",
    "A = np.array([[5,2,4,3],[2,4,6,1],[-1,4,1,0],[3,-2,0,4]])\n",
    "m = A.shape[0]\n",
    "n = A.shape[1]\n",
    "suma_raiz = 0\n",
    "for i in range (m):\n",
    "    for j in range (n):\n",
    "        suma_raiz += pow(A[i][j],2)\n",
    "    Respuesta = sqrt(suma_raiz)\n",
    "print(round(Respuesta,4))"
   ]
  }
 ],
 "metadata": {
  "kernelspec": {
   "display_name": "Python 3",
   "language": "python",
   "name": "python3"
  },
  "language_info": {
   "codemirror_mode": {
    "name": "ipython",
    "version": 3
   },
   "file_extension": ".py",
   "mimetype": "text/x-python",
   "name": "python",
   "nbconvert_exporter": "python",
   "pygments_lexer": "ipython3",
   "version": "3.8.8"
  }
 },
 "nbformat": 4,
 "nbformat_minor": 5
}
