{
 "cells": [
  {
   "cell_type": "code",
   "execution_count": null,
   "id": "fdec8554",
   "metadata": {},
   "outputs": [
    {
     "name": "stdout",
     "output_type": "stream",
     "text": [
      "Por favor ingresar los 4 elementos de la matriz\n"
     ]
    }
   ],
   "source": [
    "print (\"Por favor ingresar los 4 elementos de la matriz\")\n",
    "a = float(input (\"Primer valor: \"))\n",
    "b = float(input (\"Segundo Valor: \"))\n",
    "c = float(input (\"Tercer Valor: \"))\n",
    "d = float(input (\"Cuarto valor: \"))\n",
    "\n",
    "detA = (a*d)-(b*c)\n",
    "print(\"La determinante es: \",detA)\n",
    "\n",
    "if(a*b-d*c ==0): \n",
    "    print(\"No es posible encontrar la inversa en nuestra matriz\")\n",
    "else: \n",
    "    a1 = (1/detA)*d\n",
    "    b1 = (1/detA)*(-b)\n",
    "    c1 = (1/detA)*(-c)\n",
    "    d1 = (1/detA)*a\n",
    "    \n",
    "print(\"Matriz Inversa: \")\n",
    "print (a1 ,b1)\n",
    "print (c1 ,d1)\n",
    "\n"
   ]
  }
 ],
 "metadata": {
  "kernelspec": {
   "display_name": "Python 3",
   "language": "python",
   "name": "python3"
  },
  "language_info": {
   "codemirror_mode": {
    "name": "ipython",
    "version": 3
   },
   "file_extension": ".py",
   "mimetype": "text/x-python",
   "name": "python",
   "nbconvert_exporter": "python",
   "pygments_lexer": "ipython3",
   "version": "3.8.8"
  }
 },
 "nbformat": 4,
 "nbformat_minor": 5
}
