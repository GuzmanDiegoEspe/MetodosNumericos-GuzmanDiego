{
 "cells": [
  {
   "cell_type": "markdown",
   "id": "94c2da6f",
   "metadata": {},
   "source": [
    "# <center>Universidad de las Fuerzas Armadas</center>\n",
    "## <center>Métodos Numéricos</center> \n",
    "\n",
    "## <center>Actividad 1</center>\n",
    "## Apellidos: Guzmán Cajas\n",
    "## Nombres: Diego Alejandro\n",
    "## NRC: 3657\n"
   ]
  },
  {
   "cell_type": "markdown",
   "id": "1b26a03a",
   "metadata": {},
   "source": [
    "**1) Cree un repositorio en GitHub para los proyectos que se desarrollarán en el semestre. El repositorio\n",
    "debe estar asociado a su correo institucional. Los ejercicios de la actividad deben estar en el\n",
    "repositorio.**"
   ]
  },
  {
   "cell_type": "markdown",
   "id": "62e4f3dd",
   "metadata": {},
   "source": [
    "**<center>https://github.com/GuzmanDiegoEspe/MetodosNumericos-GuzmanDiego**</center>"
   ]
  },
  {
   "cell_type": "markdown",
   "id": "14fa8fef",
   "metadata": {},
   "source": [
    "**2) Desarrolle en Python un programa para calcular la inversa de matrices de dimensión 2 × 2. No\n",
    "olvide colocar comentarios en su programa.**"
   ]
  },
  {
   "cell_type": "markdown",
   "id": "25386587",
   "metadata": {},
   "source": [
    "Ingresamos los valores de la matriz a calcular:"
   ]
  },
  {
   "cell_type": "code",
   "execution_count": 4,
   "id": "05a9a7e2",
   "metadata": {},
   "outputs": [
    {
     "name": "stdout",
     "output_type": "stream",
     "text": [
      "Por favor ingresar los 4 elementos de la matriz\n",
      "Primer valor: 8\n",
      "Segundo Valor: 5\n",
      "Tercer Valor: 4\n",
      "Cuarto valor: 2\n"
     ]
    }
   ],
   "source": [
    "print (\"Por favor ingresar los 4 elementos de la matriz\")\n",
    "a = float(input (\"Primer valor: \"))\n",
    "b = float(input (\"Segundo Valor: \"))\n",
    "c = float(input (\"Tercer Valor: \"))\n",
    "d = float(input (\"Cuarto valor: \"))"
   ]
  },
  {
   "cell_type": "markdown",
   "id": "9ac1b914",
   "metadata": {},
   "source": [
    "Calculamos el determinante: "
   ]
  },
  {
   "cell_type": "code",
   "execution_count": 5,
   "id": "dd634fe0",
   "metadata": {},
   "outputs": [],
   "source": [
    "detA = (a*d)-(b*c)"
   ]
  },
  {
   "cell_type": "markdown",
   "id": "83e6b0c4",
   "metadata": {},
   "source": [
    "El determinante que obtuvimos es el siguiente: "
   ]
  },
  {
   "cell_type": "code",
   "execution_count": 6,
   "id": "74814090",
   "metadata": {},
   "outputs": [
    {
     "name": "stdout",
     "output_type": "stream",
     "text": [
      "-4.0\n"
     ]
    }
   ],
   "source": [
    "print(detA)"
   ]
  },
  {
   "cell_type": "markdown",
   "id": "9c4ef1d0",
   "metadata": {},
   "source": [
    "Tenemos que realizar una condición ya que en caso de que el determinante sea 0, no podríamos encontrar la inversa. \n",
    "Si la condición nos indica que el determinante es diferente de cero entonces realizamos el calculo para hallar la inversa."
   ]
  },
  {
   "cell_type": "code",
   "execution_count": 7,
   "id": "dcd48c81",
   "metadata": {},
   "outputs": [],
   "source": [
    "if(a*b-d*c ==0): \n",
    "    print(\"No es posible encontrar la inversa en nuestra matriz\")\n",
    "else: \n",
    "    a1 = (1/detA)*d\n",
    "    b1 = (1/detA)*(-b)\n",
    "    c1 = (1/detA)*(-c)\n",
    "    d1 = (1/detA)*a"
   ]
  },
  {
   "cell_type": "markdown",
   "id": "9574ff71",
   "metadata": {},
   "source": [
    "Imprimimos la matriz inversa: "
   ]
  },
  {
   "cell_type": "code",
   "execution_count": 8,
   "id": "680b5a7b",
   "metadata": {},
   "outputs": [
    {
     "name": "stdout",
     "output_type": "stream",
     "text": [
      "Matriz Inversa: \n",
      "-0.5 1.25\n",
      "1.0 -2.0\n"
     ]
    }
   ],
   "source": [
    "print(\"Matriz Inversa: \")\n",
    "print (a1 ,b1)\n",
    "print (c1 ,d1)"
   ]
  },
  {
   "cell_type": "markdown",
   "id": "4dcf839e",
   "metadata": {},
   "source": [
    "**3) Grafique en Python las siguientes funciones, $ f(x) = x^2 - x + 1 $ , $g(x)$ = $ 2\\over x-1 $ . Grafique ambas\n",
    "funciones en el mismo gráfico.**"
   ]
  },
  {
   "cell_type": "code",
   "execution_count": 3,
   "id": "c81254ef",
   "metadata": {},
   "outputs": [
    {
     "data": {
      "image/png": "[encoded data removed]",
      "text/plain": [
       "<Figure size 432x288 with 1 Axes>"
      ]
     },
     "metadata": {
      "needs_background": "light"
     },
     "output_type": "display_data"
    }
   ],
   "source": [
    "import numpy as np\n",
    "import matplotlib.pyplot as plt\n",
    "\n",
    "fx = lambda x : x**2-x+1\n",
    "gx = lambda x : 2/(x-1)\n",
    "\n",
    "x = np.linspace(-3,5,60)\n",
    "\n",
    "aa = fx(x)\n",
    "bb = gx(x)\n",
    "\n",
    "plt.plot(x,aa,color=\"blue\")\n",
    "plt.plot(x,bb,color=\"black\")\n",
    "\n",
    "plt.show()\n"
   ]
  },
  {
   "cell_type": "markdown",
   "id": "036aaf3f",
   "metadata": {},
   "source": [
    "**4) Sea la función $f(x) = $$ \\sqrt{x^2+2x+1} $ calcule $f(2.045)$ (utilice una serie de\n",
    "Taylor).**\n"
   ]
  },
  {
   "cell_type": "markdown",
   "id": "3d6ead30",
   "metadata": {},
   "source": [
    "$ f(x)  = \\sqrt {x^2+2x+1} $                <center>(Serie de Taylor alrededor de  x = 1)</center>\n",
    "$ f(x)  = \\sqrt {x^2+2x+1} $  <center>$ f(1) = \\sqrt {4} = 2 $</center>\n",
    "\n",
    "$ f'(x) $ = $ 1 \\over 2 \\sqrt {x^2+2x+1} $ $2x+2$  <center>$ f'(1) = 1 $</center>\n",
    "$ f'(x) $ = $ 2(x+1) \\over 2 \\sqrt {(x+1)^2}$ = $1$ \n",
    "\n",
    "$ f''(x) $ = $ 0 $   <center>$ f''(1) = 0 $</center>\n",
    "$ f'''(x) = 0 $ <center>$ f'''(1) = 0 $</center>\n",
    "$ f^{n1}(x) = 0 $ <center>$ f^{n1}(1) = 0 $</center> \n",
    "\n",
    "$ f(x) = $ f(a) + $f'(a)\\over 1!$ $(x-a)$ + $f''(a)\\over 2!$ $(x-a)^2$ + $f'''(a)\\over 3!$ $(x-a)^3$ + ....\n",
    "\n",
    "$ \\sqrt {x^2+2x+1} = $ 2 + $1\\over 1!$ $(x-1)$ + $0\\over 2!$ $(x-1)^2$ + $0\\over 3!$ $(x-a)^3$ + .... \n",
    "\n",
    "$ \\sqrt {x^2+2x+1} =  2 + x - 1$\n",
    "\n",
    "\n",
    "$ f(2,045) = 2 + 2,045 - 1 = 3,045 $\n",
    "\n",
    "$ \\sqrt {2,045^2 + 2 (2,045) + 1} = $ $3,045$\n",
    "\n",
    "**Error absoluto $|\\tilde{x} - x|$ = |3,045 - 3,045| = 0**"
   ]
  },
  {
   "cell_type": "markdown",
   "id": "54e85f24",
   "metadata": {},
   "source": [
    "**5) Calcule el error relativo, error absoluto, el error porcentual y las cifras significativas para los\n",
    "siguientes casos:**\n",
    "\n",
    "<center> $x = 0,005429, \\tilde{x} = 0,00543$ </center>\n",
    "\n",
    "<center> $x = 189,3478, \\tilde{x} = 18,93478$ </center>\n",
    "\n",
    "<center> $x_{0} = 4,367, x_{1} = 4,3689$ </center>"
   ]
  },
  {
   "cell_type": "markdown",
   "id": "839d3aa8",
   "metadata": {},
   "source": [
    "**A)**\n",
    "\n",
    "Error Relativo = $|x - \\tilde{x}| \\over |x|$ = $|0,005429 - 0,00543| \\over0,005429$ = $0,0001841$ (4 cifras significativas)\n",
    "\n",
    "Error Absoluto = $|x - \\tilde{x}| = | 0,005429  - 0,00543|$ =  $0.000001$ (1 cifra significativa)\n",
    "\n",
    "Error Porcentual = Error Relativo * 100% = $0,01841$ %  (4 cifras significativas)"
   ]
  },
  {
   "cell_type": "markdown",
   "id": "8efca41e",
   "metadata": {},
   "source": [
    "**B)** \n",
    "\n",
    "Error Relativo = $|x - \\tilde{x}| \\over |x|$ = $|189,3478 - 18,93478| \\over 189,3478$ = $0,9$ (1 cifra significativa)\n",
    "\n",
    "Error Absoluto = $|x - \\tilde{x}| = | 189,3478  - 18,93478|$ = $170,41302$ (8 cifras significativas)\n",
    "\n",
    "Error Porcentual = Error Relativo * 100% = $90$ % (1 cifra significativa)"
   ]
  },
  {
   "cell_type": "markdown",
   "id": "169c1885",
   "metadata": {},
   "source": [
    "**C)** \n",
    "\n",
    "Error Relativo = $|x_{0} - x_{1}| \\over |x_{0}|$ = $|4,367 - 4,3689| \\over 4,367$ = $0,0004350$ (4 cifra significativas)\n",
    "\n",
    "Error Absoluto = $|x_{0} - x_{1}| = | 4,367  - 4,3689|$ = $0,0019$ (2 cifras significativas)\n",
    "\n",
    "Error Porcentual = Error Relativo * 100% = $0,0435$ % (3 cifras significativas)"
   ]
  },
  {
   "cell_type": "markdown",
   "id": "54225b87",
   "metadata": {},
   "source": [
    "**6. Diseñe un código que encuentre el sen $\\Pi \\over 3$ a través del desarrollo de Taylor, truncar cuando $ n = 50 $**"
   ]
  },
  {
   "cell_type": "code",
   "execution_count": 35,
   "id": "a2e4f0c6",
   "metadata": {},
   "outputs": [
    {
     "name": "stdout",
     "output_type": "stream",
     "text": [
      "0 1.0471975511965976\n",
      "1 0.8558007815651173\n",
      "2 0.8662952837868347\n",
      "3 0.8660212716563725\n",
      "4 0.8660254450997811\n",
      "5 0.8660254034934827\n",
      "6 0.8660254037859597\n",
      "7 0.8660254037844324\n",
      "8 0.8660254037844385\n",
      "9 0.8660254037844385\n",
      "10 0.8660254037844385\n",
      "11 0.8660254037844385\n",
      "12 0.8660254037844385\n",
      "13 0.8660254037844385\n",
      "14 0.8660254037844385\n",
      "15 0.8660254037844385\n",
      "16 0.8660254037844385\n",
      "17 0.8660254037844385\n",
      "18 0.8660254037844385\n",
      "19 0.8660254037844385\n",
      "20 0.8660254037844385\n",
      "21 0.8660254037844385\n",
      "22 0.8660254037844385\n",
      "23 0.8660254037844385\n",
      "24 0.8660254037844385\n",
      "25 0.8660254037844385\n",
      "26 0.8660254037844385\n",
      "27 0.8660254037844385\n",
      "28 0.8660254037844385\n",
      "29 0.8660254037844385\n",
      "30 0.8660254037844385\n",
      "31 0.8660254037844385\n",
      "32 0.8660254037844385\n",
      "33 0.8660254037844385\n",
      "34 0.8660254037844385\n",
      "35 0.8660254037844385\n",
      "36 0.8660254037844385\n",
      "37 0.8660254037844385\n",
      "38 0.8660254037844385\n",
      "39 0.8660254037844385\n",
      "40 0.8660254037844385\n",
      "41 0.8660254037844385\n",
      "42 0.8660254037844385\n",
      "43 0.8660254037844385\n",
      "44 0.8660254037844385\n",
      "45 0.8660254037844385\n",
      "46 0.8660254037844385\n",
      "47 0.8660254037844385\n",
      "48 0.8660254037844385\n",
      "49 0.8660254037844385\n",
      "50 0.8660254037844385\n"
     ]
    }
   ],
   "source": [
    "import numpy as pn \n",
    "\n",
    "x = pn.pi/3\n",
    "n = 51 \n",
    "polinomio = 0\n",
    "\n",
    "for k in range (n):\n",
    "    polinomio = polinomio + (-1)**k*x**(2*k+1) / pn.math.factorial(2*k+1)\n",
    "    print(k,polinomio)"
   ]
  }
 ],
 "metadata": {
  "kernelspec": {
   "display_name": "Python 3",
   "language": "python",
   "name": "python3"
  },
  "language_info": {
   "codemirror_mode": {
    "name": "ipython",
    "version": 3
   },
   "file_extension": ".py",
   "mimetype": "text/x-python",
   "name": "python",
   "nbconvert_exporter": "python",
   "pygments_lexer": "ipython3",
   "version": "3.8.8"
  }
 },
 "nbformat": 4,
 "nbformat_minor": 5
}
