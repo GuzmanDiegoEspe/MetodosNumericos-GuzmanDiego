{
 "cells": [
  {
   "cell_type": "code",
   "execution_count": 1,
   "id": "4f39e5d5",
   "metadata": {},
   "outputs": [
    {
     "name": "stdout",
     "output_type": "stream",
     "text": [
      "[-5.75  3.5   0.5 ]\n"
     ]
    }
   ],
   "source": [
    "import numpy as np \n",
    "\n",
    "# Definimos los datos de nuestra matriz\n",
    "A = np.array([[2,4,-1],[0,1,-1],[0,0,2]])\n",
    "# Terminos de X,Y,Z\n",
    "b = np.array([2,3,1])\n",
    "\n",
    "n = np.size(b)\n",
    "x = np.zeros(n)\n",
    "\n",
    "# Bucle regresivo\n",
    "for i in range(n-1,-1,-1):\n",
    "    sumj=0\n",
    "    for j in range(i+1,n):\n",
    "        sumj+=A[i,j]*x[j]\n",
    "    x[i]=(b[i]-sumj)*1/A[i,i]\n",
    "print(x)\n"
   ]
  }
 ],
 "metadata": {
  "kernelspec": {
   "display_name": "Python 3",
   "language": "python",
   "name": "python3"
  },
  "language_info": {
   "codemirror_mode": {
    "name": "ipython",
    "version": 3
   },
   "file_extension": ".py",
   "mimetype": "text/x-python",
   "name": "python",
   "nbconvert_exporter": "python",
   "pygments_lexer": "ipython3",
   "version": "3.8.8"
  }
 },
 "nbformat": 4,
 "nbformat_minor": 5
}
