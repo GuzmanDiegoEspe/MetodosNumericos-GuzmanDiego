{
 "cells": [
  {
   "cell_type": "code",
   "execution_count": 1,
   "id": "ccb96320",
   "metadata": {},
   "outputs": [
    {
     "data": {
      "text/plain": [
       "array([25, 40, 33, 53])"
      ]
     },
     "execution_count": 1,
     "metadata": {},
     "output_type": "execute_result"
    }
   ],
   "source": [
    "import numpy as np\n",
    "a=np.array([[4,-1,-1,0],\n",
    "            [-1,4,0,-1],\n",
    "            [-1,0,4,-1],\n",
    "            [0,-1,-1,4]])\n",
    "b=np.array([30,60,40,70])\n",
    "def EliminacionGaussiana(a,b):\n",
    "    n=len(b)\n",
    "    for k in range(0,n-1):\n",
    "        for i in range(k+1,n):\n",
    "            if a[i,k]!=0.0:\n",
    "                lam = a[i,k]/a[k,k]\n",
    "                a[i,k+1:n] = a[i,k+1:n]-lam*a[k,k+1:n]\n",
    "                b[i] = b[i]-lam*b[k]\n",
    "    for k in range(n-1,-1,-1):\n",
    "            b[k] =(b[k]-np.dot(a[k,k+1:n],b[k+1:n]))/a[k,k]\n",
    "    return b\n",
    "EliminacionGaussiana(a,b)"
   ]
  }
 ],
 "metadata": {
  "kernelspec": {
   "display_name": "Python 3",
   "language": "python",
   "name": "python3"
  },
  "language_info": {
   "codemirror_mode": {
    "name": "ipython",
    "version": 3
   },
   "file_extension": ".py",
   "mimetype": "text/x-python",
   "name": "python",
   "nbconvert_exporter": "python",
   "pygments_lexer": "ipython3",
   "version": "3.8.8"
  }
 },
 "nbformat": 4,
 "nbformat_minor": 5
}
